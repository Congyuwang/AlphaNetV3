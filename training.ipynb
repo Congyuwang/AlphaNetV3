{
 "cells": [
  {
   "cell_type": "markdown",
   "source": [
    "# Training"
   ],
   "metadata": {
    "collapsed": false,
    "pycharm": {
     "name": "#%% md\n"
    }
   }
  },
  {
   "cell_type": "code",
   "execution_count": null,
   "metadata": {
    "collapsed": true
   },
   "outputs": [],
   "source": [
    "import tensorflow as tf\n",
    "import pandas as pd\n",
    "import os\n",
    "import matplotlib.pyplot as plt\n",
    "from alphanet import AlphaNetV3\n",
    "from alphanet.data import TimeSeriesData, TrainValData\n",
    "from alphanet.metrics import UpDownAccuracy"
   ]
  },
  {
   "cell_type": "markdown",
   "source": [
    "## Data Processing"
   ],
   "metadata": {
    "collapsed": false,
    "pycharm": {
     "name": "#%% md\n"
    }
   }
  },
  {
   "cell_type": "code",
   "execution_count": null,
   "outputs": [],
   "source": [
    "csi = pd.read_csv(\"./data/CSI500.zip\", dtype={\"代码\": \"category\",\n",
    "                                              \"简称\": \"category\"})\n",
    "csi.drop(columns=[\"简称\"], inplace=True)\n",
    "csi = csi.loc[csi[\"日期\"] >= 20110131, :]\n",
    "\n",
    "# 新增特征\n",
    "csi[\"close/free_turn\"] = csi[\"收盘价(元)\"] / csi[\"换手率(基准.自由流通股本)\"]\n",
    "csi[\"open/turn\"] = csi[\"开盘价(元)\"] / csi[\"换手率(%)\"]\n",
    "csi[\"volume/low\"] = csi[\"成交量(股)\"] / csi[\"最低价(元)\"]\n",
    "csi[\"vwap/high\"] = csi[\"均价\"] / csi[\"最高价(元)\"]\n",
    "csi[\"low/high\"] = csi[\"最低价(元)\"] / csi[\"最高价(元)\"]\n",
    "csi[\"vwap/close\"] = csi[\"均价\"] / csi[\"收盘价(元)\"]\n",
    "\n",
    "# 计算十日回报\n",
    "trading_dates = csi[\"日期\"].unique()\n",
    "trading_dates.sort()\n",
    "dates_shift_dictionary = dict(zip(trading_dates[10:], trading_dates[:-10]))\n",
    "csi_slice = csi[[\"代码\", \"日期\", \"收盘价(元)\"]].copy()\n",
    "csi_slice_date_shift = csi[[\"代码\", \"日期\", \"收盘价(元)\"]].copy()\n",
    "csi_slice_date_shift[\"日期\"] = csi_slice_date_shift[\"日期\"]\\\n",
    "    .map(lambda x: dates_shift_dictionary.get(x, None))\n",
    "csi_slice_date_shift.rename(columns={\"收盘价(元)\": \"10交易日后收盘价(元)\"},\n",
    "                            inplace=True)\n",
    "csi_slice_date_shift.dropna(inplace=True)\n",
    "csi_slice_date_shift[\"日期\"] = [d for d in csi_slice_date_shift[\"日期\"]]\n",
    "csi_slice = csi_slice.merge(csi_slice_date_shift,\n",
    "                            how=\"inner\",\n",
    "                            left_on=[\"代码\", \"日期\"],\n",
    "                            right_on=[\"代码\", \"日期\"])\n",
    "close_price = csi_slice[\"收盘价(元)\"]\n",
    "future_close_price = csi_slice[\"10交易日后收盘价(元)\"]\n",
    "csi_slice[\"10日回报率\"] = future_close_price / close_price - 1\n",
    "csi_slice.drop(columns=[\"收盘价(元)\", \"10交易日后收盘价(元)\"], inplace=True)\n",
    "csi = csi_slice.merge(csi,\n",
    "                      how=\"inner\",\n",
    "                      left_on=[\"代码\", \"日期\"],\n",
    "                      right_on=[\"代码\", \"日期\"])"
   ],
   "metadata": {
    "collapsed": false,
    "pycharm": {
     "name": "#%%\n"
    }
   }
  },
  {
   "cell_type": "markdown",
   "source": [
    "## Build TimeSeriesData"
   ],
   "metadata": {
    "collapsed": false,
    "pycharm": {
     "name": "#%% md\n"
    }
   },
   "outputs": [],
   "execution_count": 1
  },
  {
   "cell_type": "code",
   "execution_count": null,
   "outputs": [],
   "source": [
    "codes = csi.代码.cat.categories\n",
    "stock_data = []\n",
    "for code in codes:\n",
    "    table_part = csi.loc[csi.代码 == code, :]\n",
    "    stock_data.append(TimeSeriesData(dates=table_part[\"日期\"].values,\n",
    "                                     data=table_part.iloc[:, 3:].values,\n",
    "                                     labels=table_part[\"10日回报率\"].values))\n",
    "data = TrainValData(stock_data)"
   ],
   "metadata": {
    "collapsed": false,
    "pycharm": {
     "name": "#%%\n"
    }
   }
  },
  {
   "cell_type": "markdown",
   "source": [
    "## Define Training Functions"
   ],
   "metadata": {
    "collapsed": false,
    "pycharm": {
     "name": "#%% md\n"
    }
   }
  },
  {
   "cell_type": "code",
   "execution_count": null,
   "outputs": [],
   "source": [
    "def try_mkdirs(path):\n",
    "    if not os.path.exists(path):\n",
    "        os.makedirs(path)\n",
    "\n",
    "try_mkdirs(\"./models\")\n",
    "\n",
    "\n",
    "def do_training(beginning_date, training_id):\n",
    "    net = AlphaNetV3(metrics=[tf.keras.metrics.RootMeanSquaredError(),\n",
    "                              UpDownAccuracy()])\n",
    "    train, val = data.get(beginning_date)\n",
    "    m = net.model()\n",
    "    path_str = \"./models/{training_id:02d}/{beginning_date:08d}/\"\n",
    "    folder_path = path_str.format(training_id=training_id,\n",
    "                                  beginning_date=beginning_date)\n",
    "    try_mkdirs(folder_path)\n",
    "    file_path = folder_path + \"{epoch:04d}-{val_loss:.4f}.hdf5\"\n",
    "    ckp = tf.keras.callbacks.ModelCheckpoint(filepath=file_path,\n",
    "                                             save_freq=\"epoch\",\n",
    "                                             save_weights_only=True)\n",
    "    es = tf.keras.callbacks.EarlyStopping(monitor=\"val_loss\",\n",
    "                                          patience=10,\n",
    "                                          restore_best_weights=True)\n",
    "    h = m.fit(train.prefetch(50000).batch(500),\n",
    "              validation_data=val.batch(500),\n",
    "              epochs=100,\n",
    "              callbacks=[es, ckp])\n",
    "    return h, net"
   ],
   "metadata": {
    "collapsed": false,
    "pycharm": {
     "name": "#%%\n"
    }
   }
  },
  {
   "cell_type": "markdown",
   "source": [
    "## Training"
   ],
   "metadata": {
    "collapsed": false,
    "pycharm": {
     "name": "#%% md\n"
    }
   }
  },
  {
   "cell_type": "code",
   "execution_count": null,
   "outputs": [],
   "source": [
    "ROLLING_BEGINNING_LIST = [20110131,\n",
    "                          20110731,\n",
    "                          20120131,\n",
    "                          20120731,\n",
    "                          20130131,\n",
    "                          20130731,\n",
    "                          20140131,\n",
    "                          20140731,\n",
    "                          20150131]\n",
    "\n",
    "TRAINING_ID = [0, 1, 2, 3, 4, 5, 6, 7, 8, 9]\n",
    "\n",
    "try_mkdirs(\"./models/best/\")\n",
    "model_path_str = \"./models/best/{training_id:02d}_{beginning:08d}\"\n",
    "\n",
    "for tid in TRAINING_ID:\n",
    "    for beginning in ROLLING_BEGINNING_LIST:\n",
    "        model_path = model_path_str.format(training_id=tid,\n",
    "                                           beginning=beginning)\n",
    "        history, model = do_training(tid, beginning)\n",
    "        model.save(model_path)\n",
    "        pd.DataFrame(history.history).plot()\n",
    "        plt.title(model_path)\n",
    "        plt.show()"
   ],
   "metadata": {
    "collapsed": false,
    "pycharm": {
     "name": "#%%\n"
    }
   }
  }
 ],
 "metadata": {
  "kernelspec": {
   "display_name": "Python 3",
   "language": "python",
   "name": "python3"
  },
  "language_info": {
   "codemirror_mode": {
    "name": "ipython",
    "version": 2
   },
   "file_extension": ".py",
   "mimetype": "text/x-python",
   "name": "python",
   "nbconvert_exporter": "python",
   "pygments_lexer": "ipython2",
   "version": "2.7.6"
  }
 },
 "nbformat": 4,
 "nbformat_minor": 0
}