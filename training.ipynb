{
 "cells": [
  {
   "cell_type": "markdown",
   "source": [
    "# Training"
   ],
   "metadata": {
    "collapsed": false,
    "pycharm": {
     "name": "#%% md\n"
    }
   }
  },
  {
   "cell_type": "code",
   "execution_count": 14,
   "metadata": {
    "collapsed": true
   },
   "outputs": [],
   "source": [
    "import tensorflow as tf\n",
    "import pandas as pd\n",
    "import os\n",
    "import json\n",
    "import matplotlib.pyplot as plt\n",
    "from alphanet import AlphaNetV3\n",
    "from alphanet.data import TimeSeriesData, TrainValData\n",
    "from alphanet.metrics import UpDownAccuracy"
   ]
  },
  {
   "cell_type": "markdown",
   "source": [
    "## Data Processing"
   ],
   "metadata": {
    "collapsed": false,
    "pycharm": {
     "name": "#%% md\n"
    }
   }
  },
  {
   "cell_type": "markdown",
   "source": [
    "train_val_gap参数为验证集第一天与训练集最后一天中间间隔的天数，\n",
    "如果是相临，则train_val_gap = 0。设置该参数的目的如下：\n",
    "如果希望预测未来十天的累计收益，则预测时用到的输入数据为最近的历史数据来预测\n",
    "未来十天的累计收益，即用t(-history)到t(0)的数据来预测t(1)到t(11)的累计收益\n",
    "而训练时因为要用到十天累计收益做标签，最近的一个十天累计收益是从t(-10)到t(0)，\n",
    "用到的历史数据则必须是t(-history-11)到t(-11)的数据，为了确保validation的\n",
    "有效性，则最好将validation的第一个数据位置与train的最后一个数据位置在时间上\n",
    "相差11天，即间隔10天，因此使用train_val_gap=10。\n",
    "\n",
    "时间为t(0)的每个样本数据的历史数据时间范围为t(-30)至t(0)，即用到了当天的收盘数据。\n",
    "标签数据为 p(11) / p(1) - 1，即往后11天的收盘价除以明天的收盘价减去1。\n",
    "不用 p(10) / p(0) - 1 的原因是，当天收盘时未做预测，不能以当天收盘价购入。"
   ],
   "metadata": {
    "collapsed": false,
    "pycharm": {
     "name": "#%% md\n"
    }
   }
  },
  {
   "cell_type": "code",
   "execution_count": 15,
   "outputs": [],
   "source": [
    "# 读取数据\n",
    "csi = pd.read_csv(\"./data/CSI500.zip\", dtype={\"代码\": \"category\",\n",
    "                                              \"简称\": \"category\"})\n",
    "csi.drop(columns=[\"简称\"], inplace=True)\n",
    "csi = csi.loc[csi[\"日期\"] >= 20110131, :]\n",
    "\n",
    "# 新增特征\n",
    "csi[\"close/free_turn\"] = csi[\"收盘价(元)\"] / csi[\"换手率(基准.自由流通股本)\"]\n",
    "csi[\"open/turn\"] = csi[\"开盘价(元)\"] / csi[\"换手率(%)\"]\n",
    "csi[\"volume/low\"] = csi[\"成交量(股)\"] / csi[\"最低价(元)\"]\n",
    "csi[\"vwap/high\"] = csi[\"均价\"] / csi[\"最高价(元)\"]\n",
    "csi[\"low/high\"] = csi[\"最低价(元)\"] / csi[\"最高价(元)\"]\n",
    "csi[\"vwap/close\"] = csi[\"均价\"] / csi[\"收盘价(元)\"]\n",
    "\n",
    "# 计算t(1)至t(11)回报\n",
    "trading_dates = csi[\"日期\"].unique()\n",
    "trading_dates.sort()\n",
    "dates_shift_dictionary_1 = dict(zip(trading_dates[1:], trading_dates[:-1]))\n",
    "dates_shift_dictionary_11 = dict(zip(trading_dates[11:], trading_dates[:-11]))\n",
    "csi_slice = csi[[\"代码\", \"日期\", \"收盘价(元)\"]].copy()\n",
    "csi_slice_date_shift_1 = csi[[\"代码\", \"日期\", \"收盘价(元)\"]].copy()\n",
    "csi_slice_date_shift_11 = csi[[\"代码\", \"日期\", \"收盘价(元)\"]].copy()\n",
    "csi_slice_date_shift_1[\"日期\"] = csi_slice_date_shift_11[\"日期\"]\\\n",
    "    .map(lambda x: dates_shift_dictionary_1.get(x, None))\n",
    "csi_slice_date_shift_11[\"日期\"] = csi_slice_date_shift_11[\"日期\"]\\\n",
    "    .map(lambda x: dates_shift_dictionary_11.get(x, None))\n",
    "csi_slice_date_shift_11.rename(columns={\"收盘价(元)\": \"11交易日后收盘价(元)\"},\n",
    "                               inplace=True)\n",
    "csi_slice_date_shift_11.dropna(inplace=True)\n",
    "csi_slice_date_shift_1.rename(columns={\"收盘价(元)\": \"1交易日后收盘价(元)\"},\n",
    "                              inplace=True)\n",
    "csi_slice_date_shift_1.dropna(inplace=True)\n",
    "csi_slice = csi_slice.merge(csi_slice_date_shift_1,\n",
    "                            how=\"inner\",\n",
    "                            left_on=[\"代码\", \"日期\"],\n",
    "                            right_on=[\"代码\", \"日期\"])\n",
    "csi_slice = csi_slice.merge(csi_slice_date_shift_11,\n",
    "                            how=\"inner\",\n",
    "                            left_on=[\"代码\", \"日期\"],\n",
    "                            right_on=[\"代码\", \"日期\"])\n",
    "future_close_price_1 = csi_slice[\"1交易日后收盘价(元)\"]\n",
    "future_close_price_11 = csi_slice[\"11交易日后收盘价(元)\"]\n",
    "csi_slice[\"10日回报率\"] = future_close_price_11 / future_close_price_1 - 1\n",
    "csi_slice.drop(columns=[\"收盘价(元)\", \"11交易日后收盘价(元)\", \"1交易日后收盘价(元)\"], inplace=True)\n",
    "csi = csi_slice.merge(csi,\n",
    "                      how=\"inner\",\n",
    "                      left_on=[\"代码\", \"日期\"],\n",
    "                      right_on=[\"代码\", \"日期\"])"
   ],
   "metadata": {
    "collapsed": false,
    "pycharm": {
     "name": "#%%\n"
    }
   }
  },
  {
   "cell_type": "code",
   "execution_count": 16,
   "outputs": [
    {
     "data": {
      "text/plain": "          代码        日期    10日回报率   收盘价(元)   最高价(元)   最低价(元)   开盘价(元)  涨跌幅(%)  \\\n0  000723.SZ  20110131  0.029113  25.4634  25.5495  24.8087  24.8087  1.9310   \n1  000723.SZ  20110201  0.087316  25.4461  25.6873  25.1705  25.4634 -0.0677   \n2  000723.SZ  20110209  0.077596  24.8604  25.3600  24.2229  24.2229 -2.3020   \n3  000723.SZ  20110210  0.099998  25.5323  25.6701  24.5158  24.5330  2.7027   \n4  000723.SZ  20110211  0.062422  25.8424  25.9113  25.3600  25.5323  1.2146   \n\n   换手率(%)     成交量(股)  换手率(基准.自由流通股本)         均价  close/free_turn  open/turn  \\\n0  1.1371  1042874.0          1.3413  25.300419        18.984120  21.817518   \n1  0.7551   692549.0          0.8907  25.520747        28.568654  33.721891   \n2  0.7378   676673.0          0.8703  25.072293        28.565322  32.831255   \n3  1.0751   985959.0          1.2681  25.238911        20.134295  22.819273   \n4  1.1393  1044835.0          1.3438  25.786233        19.230838  22.410515   \n\n     volume/low  vwap/high  low/high  vwap/close  \n0  42036.624249   0.990251  0.971005    0.993599  \n1  27514.312390   0.993516  0.979881    1.002934  \n2  27935.259610   0.988655  0.955162    1.008523  \n3  40217.288443   0.983203  0.955033    0.988509  \n4  41200.118297   0.995173  0.978724    0.997827  ",
      "text/html": "<div>\n<style scoped>\n    .dataframe tbody tr th:only-of-type {\n        vertical-align: middle;\n    }\n\n    .dataframe tbody tr th {\n        vertical-align: top;\n    }\n\n    .dataframe thead th {\n        text-align: right;\n    }\n</style>\n<table border=\"1\" class=\"dataframe\">\n  <thead>\n    <tr style=\"text-align: right;\">\n      <th></th>\n      <th>代码</th>\n      <th>日期</th>\n      <th>10日回报率</th>\n      <th>收盘价(元)</th>\n      <th>最高价(元)</th>\n      <th>最低价(元)</th>\n      <th>开盘价(元)</th>\n      <th>涨跌幅(%)</th>\n      <th>换手率(%)</th>\n      <th>成交量(股)</th>\n      <th>换手率(基准.自由流通股本)</th>\n      <th>均价</th>\n      <th>close/free_turn</th>\n      <th>open/turn</th>\n      <th>volume/low</th>\n      <th>vwap/high</th>\n      <th>low/high</th>\n      <th>vwap/close</th>\n    </tr>\n  </thead>\n  <tbody>\n    <tr>\n      <th>0</th>\n      <td>000723.SZ</td>\n      <td>20110131</td>\n      <td>0.029113</td>\n      <td>25.4634</td>\n      <td>25.5495</td>\n      <td>24.8087</td>\n      <td>24.8087</td>\n      <td>1.9310</td>\n      <td>1.1371</td>\n      <td>1042874.0</td>\n      <td>1.3413</td>\n      <td>25.300419</td>\n      <td>18.984120</td>\n      <td>21.817518</td>\n      <td>42036.624249</td>\n      <td>0.990251</td>\n      <td>0.971005</td>\n      <td>0.993599</td>\n    </tr>\n    <tr>\n      <th>1</th>\n      <td>000723.SZ</td>\n      <td>20110201</td>\n      <td>0.087316</td>\n      <td>25.4461</td>\n      <td>25.6873</td>\n      <td>25.1705</td>\n      <td>25.4634</td>\n      <td>-0.0677</td>\n      <td>0.7551</td>\n      <td>692549.0</td>\n      <td>0.8907</td>\n      <td>25.520747</td>\n      <td>28.568654</td>\n      <td>33.721891</td>\n      <td>27514.312390</td>\n      <td>0.993516</td>\n      <td>0.979881</td>\n      <td>1.002934</td>\n    </tr>\n    <tr>\n      <th>2</th>\n      <td>000723.SZ</td>\n      <td>20110209</td>\n      <td>0.077596</td>\n      <td>24.8604</td>\n      <td>25.3600</td>\n      <td>24.2229</td>\n      <td>24.2229</td>\n      <td>-2.3020</td>\n      <td>0.7378</td>\n      <td>676673.0</td>\n      <td>0.8703</td>\n      <td>25.072293</td>\n      <td>28.565322</td>\n      <td>32.831255</td>\n      <td>27935.259610</td>\n      <td>0.988655</td>\n      <td>0.955162</td>\n      <td>1.008523</td>\n    </tr>\n    <tr>\n      <th>3</th>\n      <td>000723.SZ</td>\n      <td>20110210</td>\n      <td>0.099998</td>\n      <td>25.5323</td>\n      <td>25.6701</td>\n      <td>24.5158</td>\n      <td>24.5330</td>\n      <td>2.7027</td>\n      <td>1.0751</td>\n      <td>985959.0</td>\n      <td>1.2681</td>\n      <td>25.238911</td>\n      <td>20.134295</td>\n      <td>22.819273</td>\n      <td>40217.288443</td>\n      <td>0.983203</td>\n      <td>0.955033</td>\n      <td>0.988509</td>\n    </tr>\n    <tr>\n      <th>4</th>\n      <td>000723.SZ</td>\n      <td>20110211</td>\n      <td>0.062422</td>\n      <td>25.8424</td>\n      <td>25.9113</td>\n      <td>25.3600</td>\n      <td>25.5323</td>\n      <td>1.2146</td>\n      <td>1.1393</td>\n      <td>1044835.0</td>\n      <td>1.3438</td>\n      <td>25.786233</td>\n      <td>19.230838</td>\n      <td>22.410515</td>\n      <td>41200.118297</td>\n      <td>0.995173</td>\n      <td>0.978724</td>\n      <td>0.997827</td>\n    </tr>\n  </tbody>\n</table>\n</div>"
     },
     "execution_count": 16,
     "metadata": {},
     "output_type": "execute_result"
    }
   ],
   "source": [
    "csi.head()"
   ],
   "metadata": {
    "collapsed": false,
    "pycharm": {
     "name": "#%%\n"
    }
   }
  },
  {
   "cell_type": "markdown",
   "source": [
    "## Build TimeSeriesData"
   ],
   "metadata": {
    "collapsed": false,
    "pycharm": {
     "name": "#%% md\n"
    }
   },
   "outputs": [],
   "execution_count": 1
  },
  {
   "cell_type": "code",
   "execution_count": null,
   "outputs": [],
   "source": [
    "codes = csi.代码.cat.categories\n",
    "stock_data_list = []\n",
    "for code in codes:\n",
    "    table_part = csi.loc[csi.代码 == code, :]\n",
    "    stock_data_list.append(TimeSeriesData(dates=table_part[\"日期\"].values,\n",
    "                                          data=table_part.iloc[:, 3:].values,\n",
    "                                          labels=table_part[\"10日回报率\"].values))\n"
   ],
   "metadata": {
    "collapsed": false,
    "pycharm": {
     "name": "#%%\n"
    }
   }
  },
  {
   "cell_type": "markdown",
   "source": [
    "## Define Training Functions"
   ],
   "metadata": {
    "collapsed": false,
    "pycharm": {
     "name": "#%% md\n"
    }
   }
  },
  {
   "cell_type": "code",
   "execution_count": null,
   "outputs": [],
   "source": [
    "def try_mkdirs(path):\n",
    "    if not os.path.exists(path):\n",
    "        os.makedirs(path)\n",
    "\n",
    "try_mkdirs(\"./models\")\n",
    "\n",
    "data_producer = TrainValData(time_series_list=stock_data_list,\n",
    "                             train_length=1200,\n",
    "                             validate_length=300,\n",
    "                             history_length=30,\n",
    "                             sample_step=2,\n",
    "                             train_val_gap=10)\n",
    "\n",
    "\n",
    "def print_dates_info(dates_info):\n",
    "    print(\"Start_training for period {} to {}:\\n\"\n",
    "          \"\\t the training set is {}:{} (inclusive)\\n\"\n",
    "          \"\\t the validation set is {}:{} (inclusive)\".format(\n",
    "        dates_info[\"training\"][\"start_date\"],\n",
    "        dates_info[\"validation\"][\"end_date\"],\n",
    "        dates_info[\"training\"][\"start_date\"],\n",
    "        dates_info[\"training\"][\"end_date\"],\n",
    "        dates_info[\"validation\"][\"start_date\"],\n",
    "        dates_info[\"validation\"][\"end_date\"]\n",
    "    ))\n",
    "\n",
    "\n",
    "def do_training(beginning_date,\n",
    "                training_id,\n",
    "                epochs=100,\n",
    "                batch_size=500,\n",
    "                early_stopping_patience=30):\n",
    "\n",
    "    # get training data starting from beginning_date\n",
    "\n",
    "    try:\n",
    "        train, val, dates_info = data_producer.get(beginning_date)\n",
    "    except ValueError as e:\n",
    "        print(beginning_date, e)\n",
    "        return None\n",
    "\n",
    "    # print dates information\n",
    "    print_dates_info(dates_info)\n",
    "\n",
    "    # build model\n",
    "    net = AlphaNetV3(metrics=[tf.keras.metrics.RootMeanSquaredError(),\n",
    "                              UpDownAccuracy()])\n",
    "    m = net.model()\n",
    "\n",
    "    # create a folder to save information for this model\n",
    "    path_str = \"./models/{training_id:02d}/{beginning_date:08d}/\"\n",
    "    folder_path = path_str.format(training_id=training_id,\n",
    "                                  beginning_date=beginning_date)\n",
    "    try_mkdirs(folder_path)\n",
    "\n",
    "    # write dates information\n",
    "    json_path = folder_path + \"dates_info.json\"\n",
    "    with open(json_path, \"w\") as fp:\n",
    "        json.dump(dates_info, fp)\n",
    "\n",
    "    # save model weights per epoch in folders\n",
    "    file_path = folder_path + \"{epoch:04d}-{val_loss:.6f}.hdf5\"\n",
    "    ckp = tf.keras.callbacks.ModelCheckpoint(filepath=file_path,\n",
    "                                             save_freq=\"epoch\",\n",
    "                                             save_weights_only=True)\n",
    "\n",
    "    # early stopping\n",
    "    es = tf.keras.callbacks.EarlyStopping(monitor=\"val_loss\",\n",
    "                                          patience=early_stopping_patience,\n",
    "                                          restore_best_weights=True)\n",
    "\n",
    "    # fit model\n",
    "    h = m.fit(train.batch(batch_size).cache(),\n",
    "              validation_data=val.batch(batch_size).cache(),\n",
    "              epochs=epochs,\n",
    "              callbacks=[es, ckp])\n",
    "\n",
    "    # save weights of the best model\n",
    "    net.save_weights(folder_path + \"best.hdf5\")\n",
    "\n",
    "    # write history\n",
    "    history_path = folder_path + \"history.json\"\n",
    "    with open(history_path, \"w\") as fp:\n",
    "        json.dump(h.history, fp)\n",
    "\n",
    "    return h, net, dates_info"
   ],
   "metadata": {
    "collapsed": false,
    "pycharm": {
     "name": "#%%\n"
    }
   }
  },
  {
   "cell_type": "markdown",
   "source": [
    "## Training"
   ],
   "metadata": {
    "collapsed": false,
    "pycharm": {
     "name": "#%% md\n"
    }
   }
  },
  {
   "cell_type": "code",
   "execution_count": null,
   "outputs": [],
   "source": [
    "ROLLING_BEGINNING_LIST = [20110131,\n",
    "                          20110731,\n",
    "                          20120131,\n",
    "                          20120731,\n",
    "                          20130131,\n",
    "                          20130731,\n",
    "                          20140131,\n",
    "                          20140731,\n",
    "                          20150131,\n",
    "                          20150731]\n",
    "\n",
    "TRAINING_ID = [0, 1, 2, 3, 4, 5, 6, 7, 8, 9]\n",
    "\n",
    "# 华泰原来对每个模型训练了十次，最后取平均值\n",
    "for tid in TRAINING_ID:\n",
    "    for beginning in ROLLING_BEGINNING_LIST:\n",
    "        returned = do_training(beginning_date=beginning,\n",
    "                               training_id=tid)\n",
    "        if returned:\n",
    "            history, _, _ = returned\n",
    "            pd.DataFrame(history.history).plot()\n",
    "            plt.title(f\"{beginning}\")\n",
    "            plt.show()"
   ],
   "metadata": {
    "collapsed": false,
    "pycharm": {
     "name": "#%%\n"
    }
   }
  }
 ],
 "metadata": {
  "kernelspec": {
   "display_name": "Python 3",
   "language": "python",
   "name": "python3"
  },
  "language_info": {
   "codemirror_mode": {
    "name": "ipython",
    "version": 2
   },
   "file_extension": ".py",
   "mimetype": "text/x-python",
   "name": "python",
   "nbconvert_exporter": "python",
   "pygments_lexer": "ipython2",
   "version": "2.7.6"
  }
 },
 "nbformat": 4,
 "nbformat_minor": 0
}