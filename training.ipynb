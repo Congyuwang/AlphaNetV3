{
 "cells": [
  {
   "cell_type": "markdown",
   "source": [
    "# Training"
   ],
   "metadata": {
    "collapsed": false,
    "pycharm": {
     "name": "#%% md\n"
    }
   }
  },
  {
   "cell_type": "code",
   "execution_count": null,
   "metadata": {
    "collapsed": true
   },
   "outputs": [],
   "source": [
    "import tensorflow as tf\n",
    "import pandas as pd\n",
    "import os\n",
    "import json\n",
    "import matplotlib.pyplot as plt\n",
    "from alphanet import AlphaNetV3\n",
    "from alphanet.data import TimeSeriesData, TrainValData\n",
    "from alphanet.metrics import UpDownAccuracy"
   ]
  },
  {
   "cell_type": "markdown",
   "source": [
    "## Data Processing"
   ],
   "metadata": {
    "collapsed": false,
    "pycharm": {
     "name": "#%% md\n"
    }
   }
  },
  {
   "cell_type": "code",
   "execution_count": null,
   "outputs": [],
   "source": [
    "# 读取数据\n",
    "csi = pd.read_csv(\"./data/CSI500.zip\", dtype={\"代码\": \"category\",\n",
    "                                              \"简称\": \"category\"})\n",
    "csi.drop(columns=[\"简称\"], inplace=True)\n",
    "csi = csi.loc[csi[\"日期\"] >= 20110131, :]\n",
    "\n",
    "# 新增特征\n",
    "csi[\"close/free_turn\"] = csi[\"收盘价(元)\"] / csi[\"换手率(基准.自由流通股本)\"]\n",
    "csi[\"open/turn\"] = csi[\"开盘价(元)\"] / csi[\"换手率(%)\"]\n",
    "csi[\"volume/low\"] = csi[\"成交量(股)\"] / csi[\"最低价(元)\"]\n",
    "csi[\"vwap/high\"] = csi[\"均价\"] / csi[\"最高价(元)\"]\n",
    "csi[\"low/high\"] = csi[\"最低价(元)\"] / csi[\"最高价(元)\"]\n",
    "csi[\"vwap/close\"] = csi[\"均价\"] / csi[\"收盘价(元)\"]\n",
    "\n",
    "# 计算十日回报\n",
    "trading_dates = csi[\"日期\"].unique()\n",
    "trading_dates.sort()\n",
    "dates_shift_dictionary = dict(zip(trading_dates[10:], trading_dates[:-10]))\n",
    "csi_slice = csi[[\"代码\", \"日期\", \"收盘价(元)\"]].copy()\n",
    "csi_slice_date_shift = csi[[\"代码\", \"日期\", \"收盘价(元)\"]].copy()\n",
    "csi_slice_date_shift[\"日期\"] = csi_slice_date_shift[\"日期\"]\\\n",
    "    .map(lambda x: dates_shift_dictionary.get(x, None))\n",
    "csi_slice_date_shift.rename(columns={\"收盘价(元)\": \"10交易日后收盘价(元)\"},\n",
    "                            inplace=True)\n",
    "csi_slice_date_shift.dropna(inplace=True)\n",
    "csi_slice_date_shift[\"日期\"] = [d for d in csi_slice_date_shift[\"日期\"]]\n",
    "csi_slice = csi_slice.merge(csi_slice_date_shift,\n",
    "                            how=\"inner\",\n",
    "                            left_on=[\"代码\", \"日期\"],\n",
    "                            right_on=[\"代码\", \"日期\"])\n",
    "close_price = csi_slice[\"收盘价(元)\"]\n",
    "future_close_price = csi_slice[\"10交易日后收盘价(元)\"]\n",
    "csi_slice[\"10日回报率\"] = future_close_price / close_price - 1\n",
    "csi_slice.drop(columns=[\"收盘价(元)\", \"10交易日后收盘价(元)\"], inplace=True)\n",
    "csi = csi_slice.merge(csi,\n",
    "                      how=\"inner\",\n",
    "                      left_on=[\"代码\", \"日期\"],\n",
    "                      right_on=[\"代码\", \"日期\"])"
   ],
   "metadata": {
    "collapsed": false,
    "pycharm": {
     "name": "#%%\n"
    }
   }
  },
  {
   "cell_type": "markdown",
   "source": [
    "## Build TimeSeriesData"
   ],
   "metadata": {
    "collapsed": false,
    "pycharm": {
     "name": "#%% md\n"
    }
   },
   "outputs": [],
   "execution_count": 1
  },
  {
   "cell_type": "code",
   "execution_count": null,
   "outputs": [],
   "source": [
    "codes = csi.代码.cat.categories\n",
    "stock_data_list = []\n",
    "for code in codes:\n",
    "    table_part = csi.loc[csi.代码 == code, :]\n",
    "    stock_data_list.append(TimeSeriesData(dates=table_part[\"日期\"].values,\n",
    "                                          data=table_part.iloc[:, 3:].values,\n",
    "                                          labels=table_part[\"10日回报率\"].values))\n"
   ],
   "metadata": {
    "collapsed": false,
    "pycharm": {
     "name": "#%%\n"
    }
   }
  },
  {
   "cell_type": "markdown",
   "source": [
    "## Define Training Functions"
   ],
   "metadata": {
    "collapsed": false,
    "pycharm": {
     "name": "#%% md\n"
    }
   }
  },
  {
   "cell_type": "code",
   "execution_count": null,
   "outputs": [],
   "source": [
    "def try_mkdirs(path):\n",
    "    if not os.path.exists(path):\n",
    "        os.makedirs(path)\n",
    "\n",
    "try_mkdirs(\"./models\")\n",
    "\n",
    "data_producer = TrainValData(time_series_list=stock_data_list,\n",
    "                             train_length=1200,\n",
    "                             validate_length=300,\n",
    "                             history_length=30,\n",
    "                             sample_step=2)\n",
    "\n",
    "\n",
    "def print_dates_info(dates_info):\n",
    "    print(\"Start_training for period {} to {}:\\n\"\n",
    "          \"\\t the training set is {}:{} (inclusive)\\n\"\n",
    "          \"\\t the validation set is {}:{} (inclusive)\".format(\n",
    "        dates_info[\"training\"][\"start_date\"],\n",
    "        dates_info[\"validation\"][\"end_date\"],\n",
    "        dates_info[\"training\"][\"start_date\"],\n",
    "        dates_info[\"training\"][\"end_date\"],\n",
    "        dates_info[\"validation\"][\"start_date\"],\n",
    "        dates_info[\"validation\"][\"end_date\"]\n",
    "    ))\n",
    "\n",
    "\n",
    "def do_training(beginning_date,\n",
    "                training_id,\n",
    "                epochs=100,\n",
    "                batch_size=500,\n",
    "                early_stopping_patience=10):\n",
    "\n",
    "    # get training data starting from beginning_date\n",
    "\n",
    "    try:\n",
    "        train, val, dates_info = data_producer.get(beginning_date)\n",
    "    except ValueError as e:\n",
    "        print(beginning_date, e)\n",
    "        return None\n",
    "\n",
    "    # print dates information\n",
    "    print_dates_info(dates_info)\n",
    "\n",
    "    # build model\n",
    "    net = AlphaNetV3(metrics=[tf.keras.metrics.RootMeanSquaredError(),\n",
    "                              UpDownAccuracy()])\n",
    "    m = net.model()\n",
    "\n",
    "    # create a folder to save information for this model\n",
    "    path_str = \"./models/{training_id:02d}/{beginning_date:08d}/\"\n",
    "    folder_path = path_str.format(training_id=training_id,\n",
    "                                  beginning_date=beginning_date)\n",
    "    try_mkdirs(folder_path)\n",
    "\n",
    "    # write dates information\n",
    "    json_path = folder_path + \"dates_info.json\"\n",
    "    with open(json_path, \"w\") as fp:\n",
    "        json.dump(dates_info, fp)\n",
    "\n",
    "    # save model weights per epoch in folders\n",
    "    file_path = folder_path + \"{epoch:04d}-{val_loss:.6f}.hdf5\"\n",
    "    ckp = tf.keras.callbacks.ModelCheckpoint(filepath=file_path,\n",
    "                                             save_freq=\"epoch\",\n",
    "                                             save_weights_only=True)\n",
    "\n",
    "    # early stopping\n",
    "    es = tf.keras.callbacks.EarlyStopping(monitor=\"val_loss\",\n",
    "                                          patience=early_stopping_patience,\n",
    "                                          restore_best_weights=True)\n",
    "\n",
    "    # fit model\n",
    "    h = m.fit(train.batch(batch_size).cache(),\n",
    "              validation_data=val.batch(batch_size).cache(),\n",
    "              epochs=epochs,\n",
    "              callbacks=[es, ckp])\n",
    "\n",
    "    # save weights of the best model\n",
    "    net.save_weights(folder_path + \"best.hdf5\")\n",
    "\n",
    "    # write history\n",
    "    history_path = folder_path + \"history.json\"\n",
    "    with open(history_path, \"w\") as fp:\n",
    "        json.dump(h.history, fp)\n",
    "\n",
    "    return h, net, dates_info"
   ],
   "metadata": {
    "collapsed": false,
    "pycharm": {
     "name": "#%%\n"
    }
   }
  },
  {
   "cell_type": "markdown",
   "source": [
    "## Training"
   ],
   "metadata": {
    "collapsed": false,
    "pycharm": {
     "name": "#%% md\n"
    }
   }
  },
  {
   "cell_type": "code",
   "execution_count": null,
   "outputs": [],
   "source": [
    "ROLLING_BEGINNING_LIST = [20110131,\n",
    "                          20110731,\n",
    "                          20120131,\n",
    "                          20120731,\n",
    "                          20130131,\n",
    "                          20130731,\n",
    "                          20140131,\n",
    "                          20140731,\n",
    "                          20150131,\n",
    "                          20150731]\n",
    "\n",
    "TRAINING_ID = [0, 1, 2, 3, 4, 5, 6, 7, 8, 9]\n",
    "\n",
    "# 华泰原来对每个模型训练了十次，最后取平均值\n",
    "for tid in TRAINING_ID:\n",
    "    for beginning in ROLLING_BEGINNING_LIST:\n",
    "        returned = do_training(beginning_date=beginning,\n",
    "                               training_id=tid)\n",
    "        if returned:\n",
    "            history, _, _ = returned\n",
    "            pd.DataFrame(history.history).plot()\n",
    "            plt.title(f\"{beginning}\")\n",
    "            plt.show()"
   ],
   "metadata": {
    "collapsed": false,
    "pycharm": {
     "name": "#%%\n"
    }
   }
  }
 ],
 "metadata": {
  "kernelspec": {
   "display_name": "Python 3",
   "language": "python",
   "name": "python3"
  },
  "language_info": {
   "codemirror_mode": {
    "name": "ipython",
    "version": 2
   },
   "file_extension": ".py",
   "mimetype": "text/x-python",
   "name": "python",
   "nbconvert_exporter": "python",
   "pygments_lexer": "ipython2",
   "version": "2.7.6"
  }
 },
 "nbformat": 4,
 "nbformat_minor": 0
}